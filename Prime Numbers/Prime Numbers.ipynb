{
 "cells": [
  {
   "cell_type": "code",
   "execution_count": 108,
   "id": "9f64ee2f",
   "metadata": {},
   "outputs": [
    {
     "name": "stdout",
     "output_type": "stream",
     "text": [
      "Введите натуральное число больше 2. 11\n",
      "2\n",
      "3\n",
      "5\n",
      "7\n",
      "11\n"
     ]
    }
   ],
   "source": [
    "#Необходимо найти все простые числа от 2 до N, где N - это число которое должен ввести пользователь.\n",
    "#Для поиска простых чисел необходимо использовать решето Эратосфена.\n",
    "#Все также нужно обрабатывать некорректный ввод пользователя.\n",
    "#Каждое полученное простое число должно быть выведено в отдельной строке.\n",
    "\n",
    "#2 3 4 5 6 7 8 9 10 11 - nums[i]\n",
    "#0 1 2 3 4 5 6 7 8 9 10 - i\n",
    "\n",
    "from sys import exit\n",
    "\n",
    "n = input(\"Введите натуральное число больше 2. \")\n",
    "\n",
    "if n.isdigit():  \n",
    "    if int(n)>=2:\n",
    "        n=int(n)\n",
    "    else:\n",
    "        exit(\"Введённое число меньше 2\")\n",
    "else:\n",
    "    exit(\"Введённое число не является натуральным.\") \n",
    "    \n",
    "ind = [True]*n\n",
    "\n",
    "i=2\n",
    "while i**2-2<=n-1:\n",
    "    if ind[i-2]:\n",
    "        j=i**2-2\n",
    "        while j<=n-1:\n",
    "            ind[j] = False\n",
    "            j = j + i\n",
    "    i+=1\n",
    "\n",
    "i=0\n",
    "while i+2<=len(ind):\n",
    "    if ind[i]:\n",
    "        print(i+2)\n",
    "    i+=1"
   ]
  }
 ],
 "metadata": {
  "kernelspec": {
   "display_name": "Python 3 (ipykernel)",
   "language": "python",
   "name": "python3"
  },
  "language_info": {
   "codemirror_mode": {
    "name": "ipython",
    "version": 3
   },
   "file_extension": ".py",
   "mimetype": "text/x-python",
   "name": "python",
   "nbconvert_exporter": "python",
   "pygments_lexer": "ipython3",
   "version": "3.10.12"
  }
 },
 "nbformat": 4,
 "nbformat_minor": 5
}
